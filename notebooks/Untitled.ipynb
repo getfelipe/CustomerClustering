{
 "cells": [
  {
   "cell_type": "code",
   "execution_count": 14,
   "id": "cdc74441-f19c-4881-b756-414d421b775a",
   "metadata": {},
   "outputs": [],
   "source": [
    "import pandas as pd\n",
    "\n",
    "DATA = \"../data/Mall_Customer_noCustomerID.csv\"\n",
    "df = pd.read_csv(DATA)"
   ]
  },
  {
   "cell_type": "code",
   "execution_count": 15,
   "id": "447d2827-06ea-4dd7-85a8-669137aef73e",
   "metadata": {},
   "outputs": [
    {
     "data": {
      "text/html": [
       "<div>\n",
       "<style scoped>\n",
       "    .dataframe tbody tr th:only-of-type {\n",
       "        vertical-align: middle;\n",
       "    }\n",
       "\n",
       "    .dataframe tbody tr th {\n",
       "        vertical-align: top;\n",
       "    }\n",
       "\n",
       "    .dataframe thead th {\n",
       "        text-align: right;\n",
       "    }\n",
       "</style>\n",
       "<table border=\"1\" class=\"dataframe\">\n",
       "  <thead>\n",
       "    <tr style=\"text-align: right;\">\n",
       "      <th></th>\n",
       "      <th>min_max__Age</th>\n",
       "      <th>min_max__Annual Income (k$)</th>\n",
       "      <th>min_max__Spending Score (1-100)</th>\n",
       "      <th>onehot__Gender_Female</th>\n",
       "      <th>onehot__Gender_Male</th>\n",
       "    </tr>\n",
       "  </thead>\n",
       "  <tbody>\n",
       "    <tr>\n",
       "      <th>0</th>\n",
       "      <td>0.019231</td>\n",
       "      <td>0.000000</td>\n",
       "      <td>0.387755</td>\n",
       "      <td>0.0</td>\n",
       "      <td>1.0</td>\n",
       "    </tr>\n",
       "    <tr>\n",
       "      <th>1</th>\n",
       "      <td>0.057692</td>\n",
       "      <td>0.000000</td>\n",
       "      <td>0.816327</td>\n",
       "      <td>0.0</td>\n",
       "      <td>1.0</td>\n",
       "    </tr>\n",
       "    <tr>\n",
       "      <th>2</th>\n",
       "      <td>0.038462</td>\n",
       "      <td>0.008197</td>\n",
       "      <td>0.051020</td>\n",
       "      <td>1.0</td>\n",
       "      <td>0.0</td>\n",
       "    </tr>\n",
       "    <tr>\n",
       "      <th>3</th>\n",
       "      <td>0.096154</td>\n",
       "      <td>0.008197</td>\n",
       "      <td>0.775510</td>\n",
       "      <td>1.0</td>\n",
       "      <td>0.0</td>\n",
       "    </tr>\n",
       "    <tr>\n",
       "      <th>4</th>\n",
       "      <td>0.250000</td>\n",
       "      <td>0.016393</td>\n",
       "      <td>0.397959</td>\n",
       "      <td>1.0</td>\n",
       "      <td>0.0</td>\n",
       "    </tr>\n",
       "  </tbody>\n",
       "</table>\n",
       "</div>"
      ],
      "text/plain": [
       "   min_max__Age  min_max__Annual Income (k$)  min_max__Spending Score (1-100)  \\\n",
       "0      0.019231                     0.000000                         0.387755   \n",
       "1      0.057692                     0.000000                         0.816327   \n",
       "2      0.038462                     0.008197                         0.051020   \n",
       "3      0.096154                     0.008197                         0.775510   \n",
       "4      0.250000                     0.016393                         0.397959   \n",
       "\n",
       "   onehot__Gender_Female  onehot__Gender_Male  \n",
       "0                    0.0                  1.0  \n",
       "1                    0.0                  1.0  \n",
       "2                    1.0                  0.0  \n",
       "3                    1.0                  0.0  \n",
       "4                    1.0                  0.0  "
      ]
     },
     "execution_count": 15,
     "metadata": {},
     "output_type": "execute_result"
    }
   ],
   "source": [
    "from sklearn.preprocessing import OneHotEncoder, StandardScaler, MinMaxScaler\n",
    "from sklearn.compose import ColumnTransformer\n",
    "from sklearn.pipeline import Pipeline\n",
    "\n",
    "\n",
    "preprocessing = ColumnTransformer(\n",
    "    [\n",
    "        (\"min_max\", MinMaxScaler(), [\"Age\", \"Annual Income (k$)\", \"Spending Score (1-100)\"]),\n",
    "        (\"onehot\", OneHotEncoder(), [\"Gender\"]),\n",
    "        \n",
    "    ]\n",
    ")\n",
    "\n",
    "preprocessing.fit_transform(df)\n",
    "df = pd.DataFrame(\n",
    "    preprocessing.fit_transform(df),\n",
    "    columns=preprocessing.get_feature_names_out(),\n",
    ")\n",
    "\n",
    "df.head()"
   ]
  },
  {
   "cell_type": "code",
   "execution_count": 20,
   "id": "ac3907e3-0870-4226-aa69-b71f77c40835",
   "metadata": {},
   "outputs": [],
   "source": [
    "df.to_csv(\"../data/Mall_Customer_noCustomerID_scaled.csv\", index=False)"
   ]
  },
  {
   "cell_type": "code",
   "execution_count": 19,
   "id": "e00d88b5-2ead-4745-a9ce-409d5c007022",
   "metadata": {},
   "outputs": [
    {
     "ename": "AttributeError",
     "evalue": "'ColumnTransformer' object has no attribute 'feature_names_out'",
     "output_type": "error",
     "traceback": [
      "\u001b[0;31m---------------------------------------------------------------------------\u001b[0m",
      "\u001b[0;31mAttributeError\u001b[0m                            Traceback (most recent call last)",
      "Cell \u001b[0;32mIn[19], line 2\u001b[0m\n\u001b[1;32m      1\u001b[0m preprocessing\u001b[38;5;241m.\u001b[39mfeature_names_in_\n\u001b[0;32m----> 2\u001b[0m \u001b[43mpreprocessing\u001b[49m\u001b[38;5;241;43m.\u001b[39;49m\u001b[43mfeature_names_out\u001b[49m\n",
      "\u001b[0;31mAttributeError\u001b[0m: 'ColumnTransformer' object has no attribute 'feature_names_out'"
     ]
    }
   ],
   "source": []
  }
 ],
 "metadata": {
  "kernelspec": {
   "display_name": "Python 3 (ipykernel)",
   "language": "python",
   "name": "python3"
  },
  "language_info": {
   "codemirror_mode": {
    "name": "ipython",
    "version": 3
   },
   "file_extension": ".py",
   "mimetype": "text/x-python",
   "name": "python",
   "nbconvert_exporter": "python",
   "pygments_lexer": "ipython3",
   "version": "3.12.3"
  }
 },
 "nbformat": 4,
 "nbformat_minor": 5
}
